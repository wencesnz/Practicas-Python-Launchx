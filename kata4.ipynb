{
 "cells": [
  {
   "cell_type": "code",
   "execution_count": 49,
   "metadata": {},
   "outputs": [],
   "source": [
    "text = \"\"\"Interesting facts about the Moon. The Moon is Earth's only satellite. There are several interesting facts about the Moon and how it affects life here on Earth. \n",
    "On average, the Moon moves 4cm away from the Earth every year. This yearly drift is not significant enough to cause immediate effects on Earth. The highest daylight temperature of the Moon is 127 C.\"\"\""
   ]
  },
  {
   "cell_type": "markdown",
   "metadata": {},
   "source": [
    "Primero, divide el texto en cada oración para trabajar con su contenido:"
   ]
  },
  {
   "cell_type": "code",
   "execution_count": 50,
   "metadata": {},
   "outputs": [
    {
     "data": {
      "text/plain": [
       "['Interesting facts about the Moon',\n",
       " \"The Moon is Earth's only satellite\",\n",
       " 'There are several interesting facts about the Moon and how it affects life here on Earth',\n",
       " '\\nOn average, the Moon moves 4cm away from the Earth every year',\n",
       " 'This yearly drift is not significant enough to cause immediate effects on Earth',\n",
       " 'The highest daylight temperature of the Moon is 127 C.']"
      ]
     },
     "execution_count": 50,
     "metadata": {},
     "output_type": "execute_result"
    }
   ],
   "source": [
    "oraciones=text.split(\". \")\n",
    "oraciones"
   ]
  },
  {
   "cell_type": "markdown",
   "metadata": {},
   "source": [
    "Ahora, define algunas palabras clave para búsqueda que te ayudarán a determinar si una oración contiene un hecho."
   ]
  },
  {
   "cell_type": "code",
   "execution_count": 47,
   "metadata": {},
   "outputs": [],
   "source": [
    "clave=[\"average\", \"temperature\", \"distance\"]"
   ]
  },
  {
   "cell_type": "markdown",
   "metadata": {},
   "source": [
    "Cre un bucle para imprimir solo datos sobre la Luna que estén relacionados con las palabras clave definidas anteriormente:"
   ]
  },
  {
   "cell_type": "code",
   "execution_count": 51,
   "metadata": {},
   "outputs": [
    {
     "name": "stdout",
     "output_type": "stream",
     "text": [
      "Interesting facts about the Moon\n",
      "The Moon is Earth's only satellite\n",
      "There are several interesting facts about the Moon and how it affects life here on Earth\n",
      "\n",
      "On average, the Moon moves 4cm away from the Earth every year\n",
      "This yearly drift is not significant enough to cause immediate effects on Earth\n",
      "The highest daylight temperature of the Moon is 127 C.\n"
     ]
    }
   ],
   "source": [
    "for c in oraciones:\n",
    "    for clave in clave:\n",
    "        if clave in c:\n",
    "            print(c)"
   ]
  },
  {
   "cell_type": "markdown",
   "metadata": {},
   "source": [
    "Finalmente, actualiza el bucle(ciclo) para cambiar C a Celsius:"
   ]
  },
  {
   "cell_type": "code",
   "execution_count": 53,
   "metadata": {},
   "outputs": [
    {
     "name": "stdout",
     "output_type": "stream",
     "text": [
      "Interesting facts about the Moon\n",
      "The Moon is Earth's only satellite\n",
      "There are several interesting facts about the Moon and how it affects life here on Earth\n",
      "\n",
      "On average, the Moon moves 4cm away from the Earth every year\n",
      "This yearly drift is not significant enough to cause immediate effects on Earth\n",
      "The highest daylight temperature of the Moon is 127 Celsius.\n"
     ]
    }
   ],
   "source": [
    "for c in oraciones:\n",
    "    for clave in clave:\n",
    "        if clave in c:\n",
    "            remplazar=c.replace('C',\"Celsius\")\n",
    "            print(remplazar)"
   ]
  },
  {
   "cell_type": "markdown",
   "metadata": {},
   "source": [
    "## Ejercicio 2"
   ]
  },
  {
   "cell_type": "code",
   "execution_count": 4,
   "metadata": {},
   "outputs": [],
   "source": [
    "# Datos con los que vas a trabajar\n",
    "name = \"Moon\"\n",
    "gravity = 0.00162 # in kms\n",
    "planet = \"Earth\""
   ]
  },
  {
   "cell_type": "markdown",
   "metadata": {},
   "source": [
    "Primero, crea un título para el texto. Debido a que este texto trata sobre la gravedad en la Tierra y la Luna, úsalo para crear un título significativo. Utiliza las variables en lugar de escribir."
   ]
  },
  {
   "cell_type": "code",
   "execution_count": 2,
   "metadata": {},
   "outputs": [
    {
     "name": "stdout",
     "output_type": "stream",
     "text": [
      "la gravedad sobre la tiera y la luna\n"
     ]
    }
   ],
   "source": [
    "str = \"la gravedad sobre la tiera y la luna\"\n",
    "str.title()\n",
    "print(str)"
   ]
  },
  {
   "cell_type": "markdown",
   "metadata": {},
   "source": [
    "Ahora crea una plantilla de cadena multilínea para contener el resto de la información. En lugar de usar kilómetros, debes convertir la distancia a metros multiplicando por 1,000.\n"
   ]
  },
  {
   "cell_type": "code",
   "execution_count": 5,
   "metadata": {},
   "outputs": [],
   "source": [
    "hechos = f\"\"\"{'-'*80} \n",
    "Nombre del planeta: {planet} \n",
    "Gravedad en {name}: {gravity * 1000} m/s2 \n",
    "\"\"\""
   ]
  },
  {
   "cell_type": "markdown",
   "metadata": {},
   "source": [
    "Finalmente, usa ambas variables para unir el título y los hechos."
   ]
  },
  {
   "cell_type": "code",
   "execution_count": 6,
   "metadata": {},
   "outputs": [
    {
     "name": "stdout",
     "output_type": "stream",
     "text": [
      "-------------------------------------------------------------------------------- \n",
      "Nombre del planeta: Earth \n",
      "Gravedad en Moon: 1.6199999999999999 m/s2 \n",
      "\n"
     ]
    }
   ],
   "source": [
    "template = (f\"\"\"{str.title()} \n",
    "{hechos} \n",
    "\"\"\") \n",
    "print(hechos)"
   ]
  },
  {
   "cell_type": "markdown",
   "metadata": {},
   "source": [
    "Ahora usa información de una luna diferente para ver si la plantilla todavía funciona.\n",
    "\n",
    "Datos muestra:\n",
    "\n",
    "planeta = 'Marte '\n",
    "gravedad  = 0.00143\n",
    "nombre = 'Ganímedes'\n",
    "#Comprueba la plantilla\n",
    "#print(nombre_plantilla)"
   ]
  },
  {
   "cell_type": "code",
   "execution_count": 7,
   "metadata": {},
   "outputs": [
    {
     "name": "stdout",
     "output_type": "stream",
     "text": [
      "-------------------------------------------------------------------------------- \n",
      "Nombre del planeta: Earth \n",
      "Gravedad en Moon: 1.6199999999999999 m/s2 \n",
      "\n"
     ]
    }
   ],
   "source": [
    "planeta = 'Marte '\n",
    "gravedad  = 0.00143\n",
    "nombre = 'Ganímedes'\n",
    "print(hechos)"
   ]
  },
  {
   "cell_type": "markdown",
   "metadata": {},
   "source": [
    "La salida no muestra información sobre Marte. Todavía muestra información sobre la Luna. Esto sucede porque las cadenas f están ansiosas en su evaluación, por lo que las variables una vez asignadas no se pueden reasignar. Para evitar este problema, vuelva a hacer la plantilla para utilizar .format():\n",
    "\n",
    "#Nueva plantilla"
   ]
  },
  {
   "cell_type": "code",
   "execution_count": 8,
   "metadata": {},
   "outputs": [
    {
     "name": "stdout",
     "output_type": "stream",
     "text": [
      "\n",
      "Datos de Gravedad sobre: Ganímedes\n",
      "Nombre del planeta: Marte \n",
      "Gravedad en Ganímedes: 0.00143 m/s2\n",
      "\n"
     ]
    }
   ],
   "source": [
    "new_template = \"\"\"\n",
    "Datos de Gravedad sobre: {nombre}\n",
    "Nombre del planeta: {planeta}\n",
    "Gravedad en {nombre}: {gravedad} m/s2\n",
    "\"\"\"\n",
    "print(new_template.format(nombre=nombre, planeta=planeta, gravedad=gravedad))"
   ]
  },
  {
   "cell_type": "markdown",
   "metadata": {},
   "source": [
    "Debido a que .format() no permite expresiones, la gravedad en Ganímedes es incorrecta. Asegúrese de que la operación se realiza fuera de la plantilla de formato e imprima de nuevo para ver el resultado de trabajo.\n",
    "\n",
    "#Pista: print(nueva_plantilla.format(variables))"
   ]
  },
  {
   "cell_type": "code",
   "execution_count": 9,
   "metadata": {},
   "outputs": [
    {
     "name": "stdout",
     "output_type": "stream",
     "text": [
      "\n",
      "Datos de Gravedad sobre: Ganímedes\n",
      "Nombre del planeta: Marte \n",
      "Gravedad en Ganímedes: 1.4300000000000002 m/s2\n",
      "\n"
     ]
    }
   ],
   "source": [
    "# Pista: print(nueva_plantilla.format(variables))\n",
    "print(new_template.format(nombre=nombre, planeta=planeta, gravedad=gravedad*1000))"
   ]
  }
 ],
 "metadata": {
  "interpreter": {
   "hash": "d5499515389b693988ca83fa1c0053e570c634b02d3945e7b1b7d24e1b7a533b"
  },
  "kernelspec": {
   "display_name": "Python 3.9.4 64-bit",
   "language": "python",
   "name": "python3"
  },
  "language_info": {
   "codemirror_mode": {
    "name": "ipython",
    "version": 3
   },
   "file_extension": ".py",
   "mimetype": "text/x-python",
   "name": "python",
   "nbconvert_exporter": "python",
   "pygments_lexer": "ipython3",
   "version": "3.9.4"
  },
  "orig_nbformat": 4
 },
 "nbformat": 4,
 "nbformat_minor": 2
}
