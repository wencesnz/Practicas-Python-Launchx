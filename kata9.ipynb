{
 "cells": [
  {
   "cell_type": "markdown",
   "metadata": {},
   "source": [
    "## Ejercicio: Uso de funciones en Python\n",
    "Ejercicio 1: Trabajar con argumentos en funciones"
   ]
  },
  {
   "cell_type": "markdown",
   "metadata": {},
   "source": [
    "Comienza por crear una función que necesite tres lecturas de combustible y devuelva un informe:\n",
    "\n",
    "#Función para leer 3 tanques de combustible y muestre el promedio"
   ]
  },
  {
   "cell_type": "code",
   "execution_count": 14,
   "metadata": {},
   "outputs": [],
   "source": [
    "def tanque(tanque1,tanque2,tanque3):\n",
    "    int(tanque1)\n",
    "    int(tanque2)\n",
    "    int(tanque3)\n",
    "    promedio =(tanque1 +tanque2+tanque3)/3\n",
    "    return f'El promedio del tanque es{promedio}'\n",
    "\n"
   ]
  },
  {
   "cell_type": "markdown",
   "metadata": {},
   "source": [
    "Ahora que hemos definido la función de informes, vamos a comprobarlo. Para esta misión, los tanques no están llenos:\n",
    "\n",
    "#Llamamos a la función que genera el reporte print(funcion(tanque1, tanque2, tanque3))"
   ]
  },
  {
   "cell_type": "code",
   "execution_count": 15,
   "metadata": {},
   "outputs": [
    {
     "name": "stdout",
     "output_type": "stream",
     "text": [
      "El promedio del tanque es4.0\n"
     ]
    }
   ],
   "source": [
    "print(tanque(3,4,5))"
   ]
  },
  {
   "cell_type": "markdown",
   "metadata": {},
   "source": [
    "En lugar de simplemente crear el informe, la función también está calculando el promedio. Mejora la legibilidad extrayendo el cálculo promedio de la función en una nueva función para que el promedio se pueda hacer de forma independiente:\n",
    "\n",
    "#Función promedio "
   ]
  },
  {
   "cell_type": "code",
   "execution_count": 16,
   "metadata": {},
   "outputs": [
    {
     "name": "stdout",
     "output_type": "stream",
     "text": [
      "El promedio es 9.0\n"
     ]
    }
   ],
   "source": [
    "def promedio(tanques):\n",
    "    promedio=sum(tanques)/len(tanques)\n",
    "    return f'El promedio es {promedio}'\n",
    "print(promedio([9,9,9]))"
   ]
  },
  {
   "cell_type": "markdown",
   "metadata": {},
   "source": [
    "Ahora actualiza la función de informes para llamando a la nueva función del promedio:\n",
    "\n",
    "#Actualiza la función"
   ]
  },
  {
   "cell_type": "code",
   "execution_count": 21,
   "metadata": {},
   "outputs": [
    {
     "name": "stdout",
     "output_type": "stream",
     "text": [
      "El promedio del tanque esEl promedio es 9.0\n",
      "                La capacidad de los tanques son:\n",
      "                tanque 1 :9\n",
      "                tanque 2 :9\n",
      "                tanque 3 :9\n",
      "            \n"
     ]
    }
   ],
   "source": [
    "def tanque(tanque1,tanque2,tanque3):\n",
    "    promedios = promedio([tanque1,tanque2,tanque3])\n",
    "    return f\"\"\"El promedio del tanque es{promedios}\n",
    "                La capacidad de los tanques son:\n",
    "                tanque 1 :{tanque1}\n",
    "                tanque 2 :{tanque2}\n",
    "                tanque 3 :{tanque3}\n",
    "            \"\"\" \n",
    "print(tanque(9, 9, 9))\n",
    "            "
   ]
  },
  {
   "cell_type": "markdown",
   "metadata": {},
   "source": [
    "## Ejercicio 2: Trabajo con argumentos de palabra clave\n",
    "\n",
    "Ejercicio : Trabajar con argumentos de palabras clave en funciones"
   ]
  },
  {
   "cell_type": "markdown",
   "metadata": {},
   "source": [
    "En este ejercicio, construirás un informe de cohete que requiere varias piezas de información, como el tiempo hasta el destino, el combustible a la izquierda y el nombre del destino. Comienza por crear una función que creará un informe preciso de la misión:\n",
    "\n",
    "#Función con un informe preciso de la misión. Considera hora de prelanzamiento, tiempo de vuelo, destino, tanque externo y tanque interno"
   ]
  },
  {
   "cell_type": "code",
   "execution_count": 26,
   "metadata": {},
   "outputs": [],
   "source": [
    "def reporte(horaprelanz,tvuelo,destino,tanqueex,tanqueint):\n",
    "    return f\"\"\"Informe del cohete\n",
    "        hora de prelanzamiento: {horaprelanz}\n",
    "        tiempo de vuelo: {tvuelo}\n",
    "        destino: {destino}:\n",
    "        tanque externo {tanqueex}\n",
    "        tanque interno {tanqueint}\n",
    "    \"\"\"\n"
   ]
  },
  {
   "cell_type": "markdown",
   "metadata": {},
   "source": [
    "La función es problemática porque no se puede adaptar para minutos adicionales o tanques adicionales de combustible. Hazlo más flexible permitiendo cualquier número de pasos basados en el tiempo y cualquier número de tanques. En lugar de usar *args y **kwargs, aprovecha el hecho de que puedes usar cualquier nombre que desees. Asegurate que la función sea más legible mediante el uso de nombres de variables que están asociados con las entradas, como *minutes y **fuel_reservoirs:\n",
    "\n",
    "#Escribe tu nueva función de reporte considerando lo anterior"
   ]
  },
  {
   "cell_type": "code",
   "execution_count": 38,
   "metadata": {},
   "outputs": [
    {
     "name": "stdout",
     "output_type": "stream",
     "text": [
      "\n",
      "    vaije: Moon\n",
      "    Total tiempo: 74 \n",
      "    combustible: 500000\n",
      "    main tanque 300000 galones\n",
      "external tanque 200000 galones\n",
      "\n"
     ]
    }
   ],
   "source": [
    "def report(destino, *minutes, **fuel_reservoirs):\n",
    "    report = f\"\"\"\n",
    "    vaije: {destino}\n",
    "    Total tiempo: {sum(minutes)} \n",
    "    combustible: {sum(fuel_reservoirs.values())}\n",
    "    \"\"\"\n",
    "    for tank_name, galon in fuel_reservoirs.items():\n",
    "        report += f\"{tank_name} tanque {galon} galones\\n\"\n",
    "    return report\n",
    "\n",
    "print(report(\"Moon\", 8, 11, 55, main=300000, external=200000))\n"
   ]
  }
 ],
 "metadata": {
  "interpreter": {
   "hash": "d5499515389b693988ca83fa1c0053e570c634b02d3945e7b1b7d24e1b7a533b"
  },
  "kernelspec": {
   "display_name": "Python 3.9.4 64-bit",
   "language": "python",
   "name": "python3"
  },
  "language_info": {
   "codemirror_mode": {
    "name": "ipython",
    "version": 3
   },
   "file_extension": ".py",
   "mimetype": "text/x-python",
   "name": "python",
   "nbconvert_exporter": "python",
   "pygments_lexer": "ipython3",
   "version": "3.9.4"
  },
  "orig_nbformat": 4
 },
 "nbformat": 4,
 "nbformat_minor": 2
}
